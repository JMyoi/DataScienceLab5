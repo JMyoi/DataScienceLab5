{
 "cells": [
  {
   "cell_type": "markdown",
   "id": "ecb768f6-61e5-45fd-a962-7be2a5f26421",
   "metadata": {
    "collapsed": true
   },
   "source": [
    "Task 1: Print a Concise Summary of the Dataset\n"
   ]
  },
  {
   "cell_type": "code",
   "execution_count": 13,
   "id": "68de788f-6f33-4983-aa23-1f544be820a0",
   "metadata": {},
   "outputs": [
    {
     "name": "stdout",
     "output_type": "stream",
     "text": [
      "<class 'pandas.core.frame.DataFrame'>\n",
      "RangeIndex: 891 entries, 0 to 890\n",
      "Data columns (total 16 columns):\n",
      " #   Column       Non-Null Count  Dtype  \n",
      "---  ------       --------------  -----  \n",
      " 0   survived     891 non-null    int64  \n",
      " 1   pclass       891 non-null    int64  \n",
      " 2   sex          891 non-null    object \n",
      " 3   age          714 non-null    float64\n",
      " 4   sibsp        891 non-null    int64  \n",
      " 5   parch        891 non-null    int64  \n",
      " 6   fare         891 non-null    float64\n",
      " 7   embarked     889 non-null    object \n",
      " 8   class        891 non-null    object \n",
      " 9   who          891 non-null    object \n",
      " 10  adult_male   891 non-null    bool   \n",
      " 11  deck         203 non-null    object \n",
      " 12  embark_town  889 non-null    object \n",
      " 13  alive        891 non-null    object \n",
      " 14  alone        891 non-null    bool   \n",
      " 15  Unnamed: 15  0 non-null      float64\n",
      "dtypes: bool(2), float64(3), int64(4), object(7)\n",
      "memory usage: 99.3+ KB\n",
      "None\n"
     ]
    }
   ],
   "source": [
    "# Import necessary library\n",
    "import pandas as pd\n",
    "\n",
    "# Load the Titanic dataset\n",
    "titanic_df = pd.read_csv('titanic (1).csv')\n",
    "#C:\\Users\\jaych\\PycharmProjects\\DataScienceLab5\\titanic (1).csv\n",
    "# Print a concise summary of the dataset\n",
    "print(titanic_df.info())\n"
   ]
  },
  {
   "cell_type": "markdown",
   "id": "a098fdf1-9f9e-42fa-88b5-6b178016015f",
   "metadata": {},
   "source": [
    "Task 2: Extract the Column Labels, Shape, and Data Types\n"
   ]
  },
  {
   "cell_type": "code",
   "execution_count": 14,
   "id": "308a2d37-d1ec-4a5e-b05f-0fab1f5c594a",
   "metadata": {},
   "outputs": [
    {
     "name": "stdout",
     "output_type": "stream",
     "text": [
      "Column Labels: ['survived', 'pclass', 'sex', 'age', 'sibsp', 'parch', 'fare', 'embarked', 'class', 'who', 'adult_male', 'deck', 'embark_town', 'alive', 'alone', 'Unnamed: 15']\n",
      "Shape of the Dataset: (891, 16)\n",
      "Data Types of Each Column:\n",
      " survived         int64\n",
      "pclass           int64\n",
      "sex             object\n",
      "age            float64\n",
      "sibsp            int64\n",
      "parch            int64\n",
      "fare           float64\n",
      "embarked        object\n",
      "class           object\n",
      "who             object\n",
      "adult_male        bool\n",
      "deck            object\n",
      "embark_town     object\n",
      "alive           object\n",
      "alone             bool\n",
      "Unnamed: 15    float64\n",
      "dtype: object\n"
     ]
    }
   ],
   "source": [
    "# Print column labels, shape and data types\n",
    "print(\"Column Labels:\", titanic_df.columns.tolist())\n",
    "print(\"Shape of the Dataset:\", titanic_df.shape)\n",
    "print(\"Data Types of Each Column:\\n\", titanic_df.dtypes)\n"
   ]
  },
  {
   "cell_type": "markdown",
   "id": "d73759c0-90f1-469c-b20b-b16ccea2b5a9",
   "metadata": {},
   "source": [
    "Task 3: Create a Pivot Table with Multiple Indexes\n"
   ]
  },
  {
   "cell_type": "code",
   "execution_count": 15,
   "id": "36a24594-5707-4e6d-bf44-f0d1acbc6035",
   "metadata": {},
   "outputs": [
    {
     "name": "stdout",
     "output_type": "stream",
     "text": [
      "               survived\n",
      "class  sex             \n",
      "First  female  0.968085\n",
      "       male    0.368852\n",
      "Second female  0.921053\n",
      "       male    0.157407\n",
      "Third  female  0.500000\n",
      "       male    0.135447\n"
     ]
    }
   ],
   "source": [
    "# Create a Pivot table with multiple indexes\n",
    "pivot_table_multi_index = titanic_df.pivot_table(index=['class', 'sex'], values='survived', aggfunc='mean')\n",
    "print(pivot_table_multi_index)\n"
   ]
  },
  {
   "cell_type": "markdown",
   "id": "a34da18a-0a5c-4657-b38d-a05bbd2897ac",
   "metadata": {},
   "source": [
    "Task 4: Find Survival Rate by Gender on Various Classes\n"
   ]
  },
  {
   "cell_type": "code",
   "execution_count": 16,
   "id": "ed0151c2-219a-4944-8d26-3590258fd4f2",
   "metadata": {},
   "outputs": [
    {
     "name": "stdout",
     "output_type": "stream",
     "text": [
      "class      First    Second     Third\n",
      "sex                                 \n",
      "female  0.968085  0.921053  0.500000\n",
      "male    0.368852  0.157407  0.135447\n"
     ]
    }
   ],
   "source": [
    "# Pivot table for survival rate by gender and class\n",
    "survival_by_gender_class = titanic_df.pivot_table('survived', index='sex', columns='class')\n",
    "print(survival_by_gender_class)\n"
   ]
  },
  {
   "cell_type": "markdown",
   "id": "d3c3c5fb-0f6d-428b-ac18-a7ef5447745a",
   "metadata": {},
   "source": [
    "Task 5: Find Survival Rate by Gender\n"
   ]
  },
  {
   "cell_type": "code",
   "execution_count": 17,
   "id": "97c9531e-81b6-45a3-ba38-a93bb643aa60",
   "metadata": {},
   "outputs": [
    {
     "name": "stdout",
     "output_type": "stream",
     "text": [
      "        survived\n",
      "sex             \n",
      "female  0.742038\n",
      "male    0.188908\n"
     ]
    }
   ],
   "source": [
    "# Pivot table for survival rate by gender\n",
    "survival_by_gender = titanic_df.pivot_table('survived', index='sex')\n",
    "print(survival_by_gender)\n"
   ]
  },
  {
   "cell_type": "markdown",
   "id": "fac57a0f-a90f-4ef6-891c-5685afc74b18",
   "metadata": {},
   "source": [
    "Task 6: Find Survival Rate by Gender, Age Wise of Various Classes\n"
   ]
  },
  {
   "cell_type": "code",
   "execution_count": 18,
   "id": "91bc48ca-a795-4f88-b190-d6f9c3e4fdf4",
   "metadata": {},
   "outputs": [
    {
     "name": "stdout",
     "output_type": "stream",
     "text": [
      "class               First    Second     Third\n",
      "sex    age                                   \n",
      "female (0, 18]   0.909091  1.000000  0.511628\n",
      "       (18, 40]  0.979167  0.914894  0.480000\n",
      "       (40, 60]  0.958333  0.846154  0.000000\n",
      "       (60, 80]  1.000000       NaN  1.000000\n",
      "male   (0, 18]   0.800000  0.600000  0.215686\n",
      "       (18, 40]  0.478261  0.063492  0.146199\n",
      "       (40, 60]  0.342105  0.055556  0.074074\n",
      "       (60, 80]  0.083333  0.333333  0.000000\n"
     ]
    },
    {
     "name": "stderr",
     "output_type": "stream",
     "text": [
      "C:\\Users\\jaych\\AppData\\Local\\Temp\\ipykernel_10048\\3346733889.py:4: FutureWarning: The default value of observed=False is deprecated and will change to observed=True in a future version of pandas. Specify observed=False to silence this warning and retain the current behavior\n",
      "  survival_by_gender_age_class = titanic_df.pivot_table('survived', index=['sex', age_bins], columns='class')\n"
     ]
    }
   ],
   "source": [
    "# Create age bins\n",
    "age_bins = pd.cut(titanic_df['age'], [0, 18, 40, 60, 80])\n",
    "# Pivot table for survival rate by gender, age bins, and class\n",
    "survival_by_gender_age_class = titanic_df.pivot_table('survived', index=['sex', age_bins], columns='class')\n",
    "print(survival_by_gender_age_class)\n"
   ]
  },
  {
   "cell_type": "markdown",
   "id": "c451a78f-57c1-45ac-ad59-17fec2f9fc27",
   "metadata": {},
   "source": [
    "Task 7: Partition Passengers into Four Categories Based on Their Age\n"
   ]
  },
  {
   "cell_type": "code",
   "execution_count": 19,
   "id": "d2d47c88-aa89-4867-a134-3ef1a50fc3ff",
   "metadata": {},
   "outputs": [
    {
     "name": "stdout",
     "output_type": "stream",
     "text": [
      "    age age_category\n",
      "0  22.0  Young Adult\n",
      "1  38.0        Adult\n",
      "2  26.0  Young Adult\n",
      "3  35.0        Adult\n",
      "4  35.0        Adult\n"
     ]
    }
   ],
   "source": [
    "# Define age categories\n",
    "titanic_df['age_category'] = pd.cut(titanic_df['age'], bins=[0, 10, 30, 60, 80], labels=['Child', 'Young Adult', 'Adult', 'Senior'])\n",
    "print(titanic_df[['age', 'age_category']].head())\n"
   ]
  },
  {
   "cell_type": "markdown",
   "id": "ff3287d0-6b36-46e5-b59f-0d195375fac9",
   "metadata": {},
   "source": [
    "Task 8: Count Survival by Gender, Categories Wise Age of Various Classes\n"
   ]
  },
  {
   "cell_type": "code",
   "execution_count": 20,
   "id": "8e69c9d1-17cb-41aa-aaf1-3c9b540f3c73",
   "metadata": {},
   "outputs": [
    {
     "name": "stdout",
     "output_type": "stream",
     "text": [
      "class                First  Second  Third\n",
      "sex    age_category                      \n",
      "female Child             1       8     22\n",
      "       Young Adult      34      36     57\n",
      "       Adult            48      30     22\n",
      "       Senior            2       0      1\n",
      "male   Child             2       9     22\n",
      "       Young Adult      24      43    151\n",
      "       Adult            63      44     76\n",
      "       Senior           12       3      4\n"
     ]
    },
    {
     "name": "stderr",
     "output_type": "stream",
     "text": [
      "C:\\Users\\jaych\\AppData\\Local\\Temp\\ipykernel_10048\\3792828789.py:2: FutureWarning: The default value of observed=False is deprecated and will change to observed=True in a future version of pandas. Specify observed=False to silence this warning and retain the current behavior\n",
      "  count_survival_age_gender_class = titanic_df.pivot_table('survived', index=['sex', 'age_category'], columns='class', aggfunc='count')\n"
     ]
    }
   ],
   "source": [
    "# Pivot table for counting survival by gender, age category, and class\n",
    "count_survival_age_gender_class = titanic_df.pivot_table('survived', index=['sex', 'age_category'], columns='class', aggfunc='count')\n",
    "print(count_survival_age_gender_class)\n"
   ]
  },
  {
   "cell_type": "markdown",
   "id": "a379cae9-1a96-4a96-a46b-69078f7adc49",
   "metadata": {},
   "source": [
    "Task 9 and 10: Detailed Survival Rates with Fare Dimensions\n"
   ]
  },
  {
   "cell_type": "code",
   "execution_count": 21,
   "id": "161339e6-f409-4d66-924a-343d25d6d0d2",
   "metadata": {},
   "outputs": [
    {
     "name": "stdout",
     "output_type": "stream",
     "text": [
      "class                          First                             Second  \\\n",
      "fare                (-0.001, 14.454] (14.454, 512.329] (-0.001, 14.454]   \n",
      "sex    age_category                                                       \n",
      "female Child                     NaN          0.000000              NaN   \n",
      "       Young Adult               NaN          0.970588         0.933333   \n",
      "       Adult                     NaN          0.979167         0.846154   \n",
      "       Senior                    NaN          1.000000              NaN   \n",
      "male   Child                     NaN          1.000000              NaN   \n",
      "       Young Adult               NaN          0.458333         0.034483   \n",
      "       Adult                     0.0          0.440678         0.130435   \n",
      "       Senior                    NaN          0.083333         0.333333   \n",
      "\n",
      "class                                            Third                    \n",
      "fare                (14.454, 512.329] (-0.001, 14.454] (14.454, 512.329]  \n",
      "sex    age_category                                                       \n",
      "female Child                 1.000000         0.800000          0.411765  \n",
      "       Young Adult           0.904762         0.568182          0.307692  \n",
      "       Adult                 0.941176         0.142857          0.333333  \n",
      "       Senior                     NaN         1.000000               NaN  \n",
      "male   Child                 1.000000         1.000000          0.263158  \n",
      "       Young Adult           0.000000         0.140625          0.130435  \n",
      "       Adult                 0.047619         0.109375          0.166667  \n",
      "       Senior                     NaN         0.000000               NaN  \n"
     ]
    },
    {
     "name": "stderr",
     "output_type": "stream",
     "text": [
      "C:\\Users\\jaych\\AppData\\Local\\Temp\\ipykernel_10048\\2805683194.py:4: FutureWarning: The default value of observed=False is deprecated and will change to observed=True in a future version of pandas. Specify observed=False to silence this warning and retain the current behavior\n",
      "  survival_fare_gender_age_class = titanic_df.pivot_table('survived', index=['sex', 'age_category'], columns=['class', fare_bins])\n"
     ]
    }
   ],
   "source": [
    "# Create fare bins\n",
    "fare_bins = pd.qcut(titanic_df['fare'], 2)\n",
    "# Pivot table for survival rate by gender, age category, class, and fare\n",
    "survival_fare_gender_age_class = titanic_df.pivot_table('survived', index=['sex', 'age_category'], columns=['class', fare_bins])\n",
    "print(survival_fare_gender_age_class)\n"
   ]
  },
  {
   "cell_type": "markdown",
   "id": "97b43a0c-c947-4348-abb5-e2df42d2eaf3",
   "metadata": {},
   "source": []
  },
  {
   "cell_type": "code",
   "execution_count": null,
   "id": "4daf4664-8a14-4a1a-a103-78a8a507804f",
   "metadata": {},
   "outputs": [],
   "source": []
  },
  {
   "cell_type": "code",
   "execution_count": null,
   "id": "f21fce6b-8965-4e9e-a108-daf68eced1b4",
   "metadata": {},
   "outputs": [],
   "source": []
  }
 ],
 "metadata": {
  "kernelspec": {
   "display_name": "Python 3 (ipykernel)",
   "language": "python",
   "name": "python3"
  },
  "language_info": {
   "codemirror_mode": {
    "name": "ipython",
    "version": 3
   },
   "file_extension": ".py",
   "mimetype": "text/x-python",
   "name": "python",
   "nbconvert_exporter": "python",
   "pygments_lexer": "ipython3",
   "version": "3.12.1"
  }
 },
 "nbformat": 4,
 "nbformat_minor": 5
}
